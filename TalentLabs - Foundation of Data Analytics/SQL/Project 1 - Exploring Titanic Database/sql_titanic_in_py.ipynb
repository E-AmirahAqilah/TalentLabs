{
  "cells": [
    {
      "cell_type": "markdown",
      "metadata": {
        "colab_type": "text",
        "id": "view-in-github"
      },
      "source": [
        "<a href=\"https://colab.research.google.com/github/jjean95/TalentLabs/blob/main/SQL/Titanic/sql_titanic_in_py.ipynb\" target=\"_parent\"><img src=\"https://colab.research.google.com/assets/colab-badge.svg\" alt=\"Open In Colab\"/></a>"
      ]
    },
    {
      "cell_type": "code",
      "execution_count": 1,
      "metadata": {
        "id": "WHipwkPLXld3"
      },
      "outputs": [],
      "source": [
        "#Loading the sql extention into our environment\n",
        "%load_ext sql"
      ]
    },
    {
      "cell_type": "code",
      "execution_count": 10,
      "metadata": {
        "id": "EtdK0IpPfpT6"
      },
      "outputs": [],
      "source": [
        "#import pandas & sqlite3 to read the sql file\n",
        "import pandas as pd\n",
        "import sqlite3"
      ]
    },
    {
      "cell_type": "code",
      "execution_count": 54,
      "metadata": {
        "colab": {
          "base_uri": "https://localhost:8080/"
        },
        "id": "U4upka_Tbo-G",
        "outputId": "bdccafe7-f2ff-4557-e6da-d747e1b87259"
      },
      "outputs": [
        {
          "name": "stdout",
          "output_type": "stream",
          "text": [
            "     PassengerId  Survived  Pclass  \\\n",
            "0              1         0       3   \n",
            "1              2         1       1   \n",
            "2              3         1       3   \n",
            "3              4         1       1   \n",
            "4              5         0       3   \n",
            "..           ...       ...     ...   \n",
            "886          887         0       2   \n",
            "887          888         1       1   \n",
            "888          889         0       3   \n",
            "889          890         1       1   \n",
            "890          891         0       3   \n",
            "\n",
            "                                                  Name     Sex   Age  SibSp  \\\n",
            "0                              Braund, Mr. Owen Harris    male    22      1   \n",
            "1    Cumings, Mrs. John Bradley (Florence Briggs Th...  female    38      1   \n",
            "2                               Heikkinen, Miss. Laina  female    26      0   \n",
            "3         Futrelle, Mrs. Jacques Heath (Lily May Peel)  female    35      1   \n",
            "4                             Allen, Mr. William Henry    male    35      0   \n",
            "..                                                 ...     ...   ...    ...   \n",
            "886                              Montvila, Rev. Juozas    male    27      0   \n",
            "887                       Graham, Miss. Margaret Edith  female    19      0   \n",
            "888           Johnston, Miss. Catherine Helen \"Carrie\"  female  None      1   \n",
            "889                              Behr, Mr. Karl Howell    male    26      0   \n",
            "890                                Dooley, Mr. Patrick    male    32      0   \n",
            "\n",
            "     Parch            Ticket     Fare Cabin Embarked  \n",
            "0        0         A/5 21171   7.2500  None        S  \n",
            "1        0          PC 17599  71.2833   C85        C  \n",
            "2        0  STON/O2. 3101282   7.9250  None        S  \n",
            "3        0            113803  53.1000  C123        S  \n",
            "4        0            373450   8.0500  None        S  \n",
            "..     ...               ...      ...   ...      ...  \n",
            "886      0            211536  13.0000  None        S  \n",
            "887      0            112053  30.0000   B42        S  \n",
            "888      2        W./C. 6607  23.4500  None        S  \n",
            "889      0            111369  30.0000  C148        C  \n",
            "890      0            370376   7.7500  None        Q  \n",
            "\n",
            "[891 rows x 12 columns]\n"
          ]
        }
      ],
      "source": [
        "#read the sql file using pandas read sql\n",
        "con = sqlite3.connect('/content/drive/MyDrive/Talent Labs/Foundation/SQL/Titanic/titanic.db')\n",
        "passengers = pd.read_sql('SELECT * FROM passengers',con)\n",
        "print(passengers)"
      ]
    },
    {
      "cell_type": "code",
      "execution_count": 55,
      "metadata": {
        "colab": {
          "base_uri": "https://localhost:8080/",
          "height": 289
        },
        "id": "nJbTue2xbeRh",
        "outputId": "00746985-1d1e-43b9-a7fa-c6dfb0d24bbd"
      },
      "outputs": [
        {
          "name": "stdout",
          "output_type": "stream",
          "text": [
            " * sqlite://\n",
            "Done.\n"
          ]
        },
        {
          "data": {
            "text/html": [
              "<table>\n",
              "    <thead>\n",
              "        <tr>\n",
              "            <th>index</th>\n",
              "            <th>PassengerId</th>\n",
              "            <th>Survived</th>\n",
              "            <th>Pclass</th>\n",
              "            <th>Name</th>\n",
              "            <th>Sex</th>\n",
              "            <th>Age</th>\n",
              "            <th>SibSp</th>\n",
              "            <th>Parch</th>\n",
              "            <th>Ticket</th>\n",
              "            <th>Fare</th>\n",
              "            <th>Cabin</th>\n",
              "            <th>Embarked</th>\n",
              "        </tr>\n",
              "    </thead>\n",
              "    <tbody>\n",
              "        <tr>\n",
              "            <td>0</td>\n",
              "            <td>1</td>\n",
              "            <td>0</td>\n",
              "            <td>3</td>\n",
              "            <td>Braund, Mr. Owen Harris</td>\n",
              "            <td>male</td>\n",
              "            <td>22</td>\n",
              "            <td>1</td>\n",
              "            <td>0</td>\n",
              "            <td>A/5 21171</td>\n",
              "            <td>7.25</td>\n",
              "            <td>None</td>\n",
              "            <td>S</td>\n",
              "        </tr>\n",
              "        <tr>\n",
              "            <td>1</td>\n",
              "            <td>2</td>\n",
              "            <td>1</td>\n",
              "            <td>1</td>\n",
              "            <td>Cumings, Mrs. John Bradley (Florence Briggs Thayer)</td>\n",
              "            <td>female</td>\n",
              "            <td>38</td>\n",
              "            <td>1</td>\n",
              "            <td>0</td>\n",
              "            <td>PC 17599</td>\n",
              "            <td>71.2833</td>\n",
              "            <td>C85</td>\n",
              "            <td>C</td>\n",
              "        </tr>\n",
              "        <tr>\n",
              "            <td>2</td>\n",
              "            <td>3</td>\n",
              "            <td>1</td>\n",
              "            <td>3</td>\n",
              "            <td>Heikkinen, Miss. Laina</td>\n",
              "            <td>female</td>\n",
              "            <td>26</td>\n",
              "            <td>0</td>\n",
              "            <td>0</td>\n",
              "            <td>STON/O2. 3101282</td>\n",
              "            <td>7.925</td>\n",
              "            <td>None</td>\n",
              "            <td>S</td>\n",
              "        </tr>\n",
              "        <tr>\n",
              "            <td>3</td>\n",
              "            <td>4</td>\n",
              "            <td>1</td>\n",
              "            <td>1</td>\n",
              "            <td>Futrelle, Mrs. Jacques Heath (Lily May Peel)</td>\n",
              "            <td>female</td>\n",
              "            <td>35</td>\n",
              "            <td>1</td>\n",
              "            <td>0</td>\n",
              "            <td>113803</td>\n",
              "            <td>53.1</td>\n",
              "            <td>C123</td>\n",
              "            <td>S</td>\n",
              "        </tr>\n",
              "        <tr>\n",
              "            <td>4</td>\n",
              "            <td>5</td>\n",
              "            <td>0</td>\n",
              "            <td>3</td>\n",
              "            <td>Allen, Mr. William Henry</td>\n",
              "            <td>male</td>\n",
              "            <td>35</td>\n",
              "            <td>0</td>\n",
              "            <td>0</td>\n",
              "            <td>373450</td>\n",
              "            <td>8.05</td>\n",
              "            <td>None</td>\n",
              "            <td>S</td>\n",
              "        </tr>\n",
              "        <tr>\n",
              "            <td>5</td>\n",
              "            <td>6</td>\n",
              "            <td>0</td>\n",
              "            <td>3</td>\n",
              "            <td>Moran, Mr. James</td>\n",
              "            <td>male</td>\n",
              "            <td>None</td>\n",
              "            <td>0</td>\n",
              "            <td>0</td>\n",
              "            <td>330877</td>\n",
              "            <td>8.4583</td>\n",
              "            <td>None</td>\n",
              "            <td>Q</td>\n",
              "        </tr>\n",
              "        <tr>\n",
              "            <td>6</td>\n",
              "            <td>7</td>\n",
              "            <td>0</td>\n",
              "            <td>1</td>\n",
              "            <td>McCarthy, Mr. Timothy J</td>\n",
              "            <td>male</td>\n",
              "            <td>54</td>\n",
              "            <td>0</td>\n",
              "            <td>0</td>\n",
              "            <td>17463</td>\n",
              "            <td>51.8625</td>\n",
              "            <td>E46</td>\n",
              "            <td>S</td>\n",
              "        </tr>\n",
              "        <tr>\n",
              "            <td>7</td>\n",
              "            <td>8</td>\n",
              "            <td>0</td>\n",
              "            <td>3</td>\n",
              "            <td>Palsson, Master. Gosta Leonard</td>\n",
              "            <td>male</td>\n",
              "            <td>2</td>\n",
              "            <td>3</td>\n",
              "            <td>1</td>\n",
              "            <td>349909</td>\n",
              "            <td>21.075</td>\n",
              "            <td>None</td>\n",
              "            <td>S</td>\n",
              "        </tr>\n",
              "        <tr>\n",
              "            <td>8</td>\n",
              "            <td>9</td>\n",
              "            <td>1</td>\n",
              "            <td>3</td>\n",
              "            <td>Johnson, Mrs. Oscar W (Elisabeth Vilhelmina Berg)</td>\n",
              "            <td>female</td>\n",
              "            <td>27</td>\n",
              "            <td>0</td>\n",
              "            <td>2</td>\n",
              "            <td>347742</td>\n",
              "            <td>11.1333</td>\n",
              "            <td>None</td>\n",
              "            <td>S</td>\n",
              "        </tr>\n",
              "        <tr>\n",
              "            <td>9</td>\n",
              "            <td>10</td>\n",
              "            <td>1</td>\n",
              "            <td>2</td>\n",
              "            <td>Nasser, Mrs. Nicholas (Adele Achem)</td>\n",
              "            <td>female</td>\n",
              "            <td>14</td>\n",
              "            <td>1</td>\n",
              "            <td>0</td>\n",
              "            <td>237736</td>\n",
              "            <td>30.0708</td>\n",
              "            <td>None</td>\n",
              "            <td>C</td>\n",
              "        </tr>\n",
              "    </tbody>\n",
              "</table>"
            ],
            "text/plain": [
              "[(0, 1, 0, 3, 'Braund, Mr. Owen Harris', 'male', '22', 1, 0, 'A/5 21171', 7.25, None, 'S'),\n",
              " (1, 2, 1, 1, 'Cumings, Mrs. John Bradley (Florence Briggs Thayer)', 'female', '38', 1, 0, 'PC 17599', 71.2833, 'C85', 'C'),\n",
              " (2, 3, 1, 3, 'Heikkinen, Miss. Laina', 'female', '26', 0, 0, 'STON/O2. 3101282', 7.925, None, 'S'),\n",
              " (3, 4, 1, 1, 'Futrelle, Mrs. Jacques Heath (Lily May Peel)', 'female', '35', 1, 0, '113803', 53.1, 'C123', 'S'),\n",
              " (4, 5, 0, 3, 'Allen, Mr. William Henry', 'male', '35', 0, 0, '373450', 8.05, None, 'S'),\n",
              " (5, 6, 0, 3, 'Moran, Mr. James', 'male', None, 0, 0, '330877', 8.4583, None, 'Q'),\n",
              " (6, 7, 0, 1, 'McCarthy, Mr. Timothy J', 'male', '54', 0, 0, '17463', 51.8625, 'E46', 'S'),\n",
              " (7, 8, 0, 3, 'Palsson, Master. Gosta Leonard', 'male', '2', 3, 1, '349909', 21.075, None, 'S'),\n",
              " (8, 9, 1, 3, 'Johnson, Mrs. Oscar W (Elisabeth Vilhelmina Berg)', 'female', '27', 0, 2, '347742', 11.1333, None, 'S'),\n",
              " (9, 10, 1, 2, 'Nasser, Mrs. Nicholas (Adele Achem)', 'female', '14', 1, 0, '237736', 30.0708, None, 'C')]"
            ]
          },
          "execution_count": 55,
          "metadata": {},
          "output_type": "execute_result"
        }
      ],
      "source": [
        "#inspect the database using sql command, limit by 10\n",
        "%%sql \n",
        "SELECT * \n",
        "FROM passengers \n",
        "LIMIT 10"
      ]
    },
    {
      "cell_type": "code",
      "execution_count": 31,
      "metadata": {
        "colab": {
          "base_uri": "https://localhost:8080/",
          "height": 96
        },
        "id": "AZZsJqu1gf_G",
        "outputId": "2575497d-28bb-43e2-fe1e-4b11bfd7600c"
      },
      "outputs": [
        {
          "name": "stdout",
          "output_type": "stream",
          "text": [
            " * sqlite://\n",
            "Done.\n"
          ]
        },
        {
          "data": {
            "text/html": [
              "<table>\n",
              "    <thead>\n",
              "        <tr>\n",
              "            <th>COUNT(*)</th>\n",
              "        </tr>\n",
              "    </thead>\n",
              "    <tbody>\n",
              "        <tr>\n",
              "            <td>177</td>\n",
              "        </tr>\n",
              "    </tbody>\n",
              "</table>"
            ],
            "text/plain": [
              "[(177,)]"
            ]
          },
          "execution_count": 31,
          "metadata": {},
          "output_type": "execute_result"
        }
      ],
      "source": [
        "# count how many null\n",
        "%%sql \n",
        "SELECT COUNT(*) \n",
        "FROM passengers \n",
        "WHERE Age IS null"
      ]
    },
    {
      "cell_type": "code",
      "execution_count": 30,
      "metadata": {
        "colab": {
          "base_uri": "https://localhost:8080/",
          "height": 96
        },
        "id": "f6Z17rH-gyFL",
        "outputId": "72a79ce5-a8e2-4af9-efe3-decf34933335"
      },
      "outputs": [
        {
          "name": "stdout",
          "output_type": "stream",
          "text": [
            " * sqlite://\n",
            "Done.\n"
          ]
        },
        {
          "data": {
            "text/html": [
              "<table>\n",
              "    <thead>\n",
              "        <tr>\n",
              "            <th>COUNT(*)</th>\n",
              "        </tr>\n",
              "    </thead>\n",
              "    <tbody>\n",
              "        <tr>\n",
              "            <td>687</td>\n",
              "        </tr>\n",
              "    </tbody>\n",
              "</table>"
            ],
            "text/plain": [
              "[(687,)]"
            ]
          },
          "execution_count": 30,
          "metadata": {},
          "output_type": "execute_result"
        }
      ],
      "source": [
        "# count how many null\n",
        "%%sql \n",
        "SELECT COUNT(*) \n",
        "FROM passengers \n",
        "WHERE Cabin IS null OR Cabin = 0"
      ]
    },
    {
      "cell_type": "code",
      "execution_count": 29,
      "metadata": {
        "colab": {
          "base_uri": "https://localhost:8080/",
          "height": 96
        },
        "id": "R9lF6cwAgx9j",
        "outputId": "e6bc4876-d1fd-495b-c0c6-2ce80134d453"
      },
      "outputs": [
        {
          "name": "stdout",
          "output_type": "stream",
          "text": [
            " * sqlite://\n",
            "Done.\n"
          ]
        },
        {
          "data": {
            "text/html": [
              "<table>\n",
              "    <thead>\n",
              "        <tr>\n",
              "            <th>COUNT(*)</th>\n",
              "        </tr>\n",
              "    </thead>\n",
              "    <tbody>\n",
              "        <tr>\n",
              "            <td>2</td>\n",
              "        </tr>\n",
              "    </tbody>\n",
              "</table>"
            ],
            "text/plain": [
              "[(2,)]"
            ]
          },
          "execution_count": 29,
          "metadata": {},
          "output_type": "execute_result"
        }
      ],
      "source": [
        "# count how many null\n",
        "%%sql \n",
        "SELECT COUNT(*) \n",
        "FROM passengers \n",
        "WHERE Embarked IS null"
      ]
    },
    {
      "cell_type": "code",
      "execution_count": 34,
      "metadata": {
        "colab": {
          "base_uri": "https://localhost:8080/",
          "height": 118
        },
        "id": "8WurUjWTgqpb",
        "outputId": "f8b58973-85e7-4212-f70f-7d4f30fef2a0"
      },
      "outputs": [
        {
          "name": "stdout",
          "output_type": "stream",
          "text": [
            " * sqlite://\n",
            "Done.\n"
          ]
        },
        {
          "data": {
            "text/html": [
              "<table>\n",
              "    <thead>\n",
              "        <tr>\n",
              "            <th>Survived</th>\n",
              "            <th>survive_count</th>\n",
              "            <th>percentage</th>\n",
              "        </tr>\n",
              "    </thead>\n",
              "    <tbody>\n",
              "        <tr>\n",
              "            <td>0</td>\n",
              "            <td>549</td>\n",
              "            <td>61.62</td>\n",
              "        </tr>\n",
              "        <tr>\n",
              "            <td>1</td>\n",
              "            <td>342</td>\n",
              "            <td>38.38</td>\n",
              "        </tr>\n",
              "    </tbody>\n",
              "</table>"
            ],
            "text/plain": [
              "[(0, 549, 61.62), (1, 342, 38.38)]"
            ]
          },
          "execution_count": 34,
          "metadata": {},
          "output_type": "execute_result"
        }
      ],
      "source": [
        "# Survival rate of Titanic\n",
        "%%sql \n",
        "SELECT Survived, count(*) AS survive_count, \n",
        "    round(count(*) * 100.0 /(SELECT count(*) FROM passengers),2) AS percentage \n",
        "FROM passengers \n",
        "GROUP BY Survived"
      ]
    },
    {
      "cell_type": "code",
      "execution_count": 1,
      "metadata": {
        "colab": {
          "base_uri": "https://localhost:8080/",
          "height": 160
        },
        "id": "3ZG9atTXhT76",
        "outputId": "bf0e9fe5-ad04-4c20-80b6-cc7b40d124d0"
      },
      "outputs": [
        {
          "ename": "SyntaxError",
          "evalue": "invalid syntax (1004262342.py, line 3)",
          "output_type": "error",
          "traceback": [
            "\u001b[1;36m  Cell \u001b[1;32mIn[1], line 3\u001b[1;36m\u001b[0m\n\u001b[1;33m    WITH Demographics AS\u001b[0m\n\u001b[1;37m         ^\u001b[0m\n\u001b[1;31mSyntaxError\u001b[0m\u001b[1;31m:\u001b[0m invalid syntax\n"
          ]
        }
      ],
      "source": [
        "#Survival rate of children/elderlies vs adult\n",
        "%%sql \n",
        "WITH Demographics AS \n",
        "    (SELECT *, \n",
        "      CASE \n",
        "      WHEN Age BETWEEN  0 AND 18  then \"Children\" \n",
        "      WHEN Age > 59  then \"Elderlies\" \n",
        "      WHEN Age > 18 AND Age < 60 then \"Adult\" \n",
        "    Else \"NULL\" \n",
        "    END AS Demo \n",
        "    FROM passengers) \n",
        "SELECT COUNT(*), Demo \n",
        "FROM Demographics \n",
        "GROUP BY Demo"
      ]
    },
    {
      "cell_type": "code",
      "execution_count": 36,
      "metadata": {
        "colab": {
          "base_uri": "https://localhost:8080/",
          "height": 118
        },
        "id": "GRa5vdVChtOh",
        "outputId": "59bcd5bd-0ebb-402b-9366-d77b45306f8b"
      },
      "outputs": [
        {
          "name": "stdout",
          "output_type": "stream",
          "text": [
            " * sqlite://\n",
            "Done.\n"
          ]
        },
        {
          "data": {
            "text/html": [
              "<table>\n",
              "    <thead>\n",
              "        <tr>\n",
              "            <th>count(*)</th>\n",
              "            <th>Demo</th>\n",
              "            <th>Survived</th>\n",
              "            <th>percentage</th>\n",
              "        </tr>\n",
              "    </thead>\n",
              "    <tbody>\n",
              "        <tr>\n",
              "            <td>347</td>\n",
              "            <td>Adult</td>\n",
              "            <td>0</td>\n",
              "            <td>59.93</td>\n",
              "        </tr>\n",
              "        <tr>\n",
              "            <td>232</td>\n",
              "            <td>Adult</td>\n",
              "            <td>1</td>\n",
              "            <td>40.07</td>\n",
              "        </tr>\n",
              "    </tbody>\n",
              "</table>"
            ],
            "text/plain": [
              "[(347, 'Adult', 0, 59.93), (232, 'Adult', 1, 40.07)]"
            ]
          },
          "execution_count": 36,
          "metadata": {},
          "output_type": "execute_result"
        }
      ],
      "source": [
        "#Survival rate of children/elderlies vs adult\n",
        "%%sql           \n",
        "WITH Demographics AS \n",
        "    (SELECT *,\n",
        "       CASE\n",
        "       WHEN Age BETWEEN  0 AND 18  then \"Children\"\n",
        "       WHEN Age > 59  then \"Elderlies\" \n",
        "       WHEN Age > 18 AND Age < 60 then \"Adult\"\n",
        "       Else \"NULL\"\n",
        "       END AS Demo\n",
        "       FROM passengers)\n",
        "SELECT count(*), Demo, Survived,\n",
        "          round(count(*) * 100.0 /(SELECT count(*) FROM \n",
        "          (SELECT *\n",
        "          FROM Demographics\n",
        "          WHERE Demo = 'Adult')),2) AS percentage\n",
        "FROM Demographics\n",
        "GROUP BY Demo, Survived\n",
        "Having Demo = 'Adult'"
      ]
    },
    {
      "cell_type": "code",
      "execution_count": 37,
      "metadata": {
        "colab": {
          "base_uri": "https://localhost:8080/",
          "height": 118
        },
        "id": "mAA7XErLjPgl",
        "outputId": "1c0496f3-4eb9-4e86-dd10-4d0cfcc63f65"
      },
      "outputs": [
        {
          "name": "stdout",
          "output_type": "stream",
          "text": [
            " * sqlite://\n",
            "Done.\n"
          ]
        },
        {
          "data": {
            "text/html": [
              "<table>\n",
              "    <thead>\n",
              "        <tr>\n",
              "            <th>count(*)</th>\n",
              "            <th>Demo</th>\n",
              "            <th>Survived</th>\n",
              "            <th>percentage</th>\n",
              "        </tr>\n",
              "    </thead>\n",
              "    <tbody>\n",
              "        <tr>\n",
              "            <td>30</td>\n",
              "            <td>Children</td>\n",
              "            <td>0</td>\n",
              "            <td>46.15</td>\n",
              "        </tr>\n",
              "        <tr>\n",
              "            <td>35</td>\n",
              "            <td>Children</td>\n",
              "            <td>1</td>\n",
              "            <td>53.85</td>\n",
              "        </tr>\n",
              "    </tbody>\n",
              "</table>"
            ],
            "text/plain": [
              "[(30, 'Children', 0, 46.15), (35, 'Children', 1, 53.85)]"
            ]
          },
          "execution_count": 37,
          "metadata": {},
          "output_type": "execute_result"
        }
      ],
      "source": [
        "#Survival rate of children/elderlies vs adult\n",
        "%%sql\n",
        "WITH Demographics AS (SELECT *,\n",
        "          CASE\n",
        "          WHEN Age BETWEEN 0 AND 17 then \"Children\"\n",
        "          WHEN Age > 59  then \"Elderlies\" \n",
        "          WHEN Age > 18 AND Age < 60 then \"Adult\"\n",
        "          Else \"NULL\"\n",
        "          END AS Demo\n",
        "          FROM passengers)\n",
        "SELECT count(*), Demo, Survived,\n",
        "          round(count(*) * 100.0 /(SELECT count(*) FROM \n",
        "          (SELECT *\n",
        "          FROM Demographics\n",
        "          WHERE Demo = 'Children')),2) AS percentage\n",
        "FROM Demographics\n",
        "GROUP BY Demo, Survived\n",
        "Having Demo = 'Children'"
      ]
    },
    {
      "cell_type": "code",
      "execution_count": 38,
      "metadata": {
        "colab": {
          "base_uri": "https://localhost:8080/",
          "height": 118
        },
        "id": "9xYvdzxJjabT",
        "outputId": "597c8c02-3920-4601-b97f-26360ed386c1"
      },
      "outputs": [
        {
          "name": "stdout",
          "output_type": "stream",
          "text": [
            " * sqlite://\n",
            "Done.\n"
          ]
        },
        {
          "data": {
            "text/html": [
              "<table>\n",
              "    <thead>\n",
              "        <tr>\n",
              "            <th>count(*)</th>\n",
              "            <th>Demo</th>\n",
              "            <th>Survived</th>\n",
              "            <th>percentage</th>\n",
              "        </tr>\n",
              "    </thead>\n",
              "    <tbody>\n",
              "        <tr>\n",
              "            <td>30</td>\n",
              "            <td>Elderlies</td>\n",
              "            <td>0</td>\n",
              "            <td>68.18</td>\n",
              "        </tr>\n",
              "        <tr>\n",
              "            <td>14</td>\n",
              "            <td>Elderlies</td>\n",
              "            <td>1</td>\n",
              "            <td>31.82</td>\n",
              "        </tr>\n",
              "    </tbody>\n",
              "</table>"
            ],
            "text/plain": [
              "[(30, 'Elderlies', 0, 68.18), (14, 'Elderlies', 1, 31.82)]"
            ]
          },
          "execution_count": 38,
          "metadata": {},
          "output_type": "execute_result"
        }
      ],
      "source": [
        "%%sql\n",
        "WITH Demographics AS (SELECT *,\n",
        "          CASE\n",
        "          WHEN Age BETWEEN 0 AND 17  then \"Children\"\n",
        "          WHEN Age > 59  then \"Elderlies\" \n",
        "          WHEN Age > 18 AND Age < 60 then \"Adult\"\n",
        "          Else \"NULL\"\n",
        "          END AS Demo\n",
        "          FROM passengers)\n",
        "SELECT count(*), Demo, Survived,\n",
        "          round(count(*) * 100.0 /(SELECT count(*) FROM \n",
        "          (SELECT *\n",
        "          FROM Demographics\n",
        "          WHERE Demo = 'Elderlies')),2) AS percentage\n",
        "FROM Demographics\n",
        "GROUP BY Demo, Survived\n",
        "Having Demo = 'Elderlies'"
      ]
    },
    {
      "cell_type": "code",
      "execution_count": 1,
      "metadata": {
        "colab": {
          "base_uri": "https://localhost:8080/",
          "height": 118
        },
        "id": "gqAZw8v6jgGk",
        "outputId": "b433845f-448d-4593-fc00-6a6fcf1da907"
      },
      "outputs": [
        {
          "ename": "SyntaxError",
          "evalue": "Invalid star expression (202027984.py, line 3)",
          "output_type": "error",
          "traceback": [
            "\u001b[1;36m  Cell \u001b[1;32mIn[1], line 3\u001b[1;36m\u001b[0m\n\u001b[1;33m    SELECT Sex, count(*)\u001b[0m\n\u001b[1;37m                       ^\u001b[0m\n\u001b[1;31mSyntaxError\u001b[0m\u001b[1;31m:\u001b[0m Invalid star expression\n"
          ]
        }
      ],
      "source": [
        "#Gender of survivors\n",
        "%%sql\n",
        "SELECT Sex, count(*)\n",
        "FROM passengers\n",
        "GROUP BY Sex"
      ]
    },
    {
      "cell_type": "code",
      "execution_count": null,
      "metadata": {},
      "outputs": [],
      "source": []
    },
    {
      "cell_type": "code",
      "execution_count": 41,
      "metadata": {
        "colab": {
          "base_uri": "https://localhost:8080/",
          "height": 118
        },
        "id": "n1ZIL0mJjs6a",
        "outputId": "1d47ba91-362b-407c-e5e0-c08dd6810883"
      },
      "outputs": [
        {
          "name": "stdout",
          "output_type": "stream",
          "text": [
            " * sqlite://\n",
            "Done.\n"
          ]
        },
        {
          "data": {
            "text/html": [
              "<table>\n",
              "    <thead>\n",
              "        <tr>\n",
              "            <th>Survived</th>\n",
              "            <th>survive_count</th>\n",
              "            <th>percentage</th>\n",
              "        </tr>\n",
              "    </thead>\n",
              "    <tbody>\n",
              "        <tr>\n",
              "            <td>0</td>\n",
              "            <td>468</td>\n",
              "            <td>81.11</td>\n",
              "        </tr>\n",
              "        <tr>\n",
              "            <td>1</td>\n",
              "            <td>109</td>\n",
              "            <td>18.89</td>\n",
              "        </tr>\n",
              "    </tbody>\n",
              "</table>"
            ],
            "text/plain": [
              "[(0, 468, 81.11), (1, 109, 18.89)]"
            ]
          },
          "execution_count": 41,
          "metadata": {},
          "output_type": "execute_result"
        }
      ],
      "source": [
        "#Survivors male\n",
        "%%sql\n",
        "SELECT Survived, count(*) AS survive_count, \n",
        "    round(count(*) * 100.0 / (SELECT count(*) FROM passengers WHERE Sex = 'male'),2) AS percentage\n",
        "FROM passengers\n",
        "WHERE Sex = 'male'\n",
        "GROUP BY Survived"
      ]
    },
    {
      "cell_type": "code",
      "execution_count": 42,
      "metadata": {
        "colab": {
          "base_uri": "https://localhost:8080/",
          "height": 118
        },
        "id": "o6HTE9JSj8Zh",
        "outputId": "729df91f-a021-42b4-c967-77643a8ab3ad"
      },
      "outputs": [
        {
          "name": "stdout",
          "output_type": "stream",
          "text": [
            " * sqlite://\n",
            "Done.\n"
          ]
        },
        {
          "data": {
            "text/html": [
              "<table>\n",
              "    <thead>\n",
              "        <tr>\n",
              "            <th>Survived</th>\n",
              "            <th>survive_count</th>\n",
              "            <th>percentage</th>\n",
              "        </tr>\n",
              "    </thead>\n",
              "    <tbody>\n",
              "        <tr>\n",
              "            <td>0</td>\n",
              "            <td>81</td>\n",
              "            <td>25.8</td>\n",
              "        </tr>\n",
              "        <tr>\n",
              "            <td>1</td>\n",
              "            <td>233</td>\n",
              "            <td>74.2</td>\n",
              "        </tr>\n",
              "    </tbody>\n",
              "</table>"
            ],
            "text/plain": [
              "[(0, 81, 25.8), (1, 233, 74.2)]"
            ]
          },
          "execution_count": 42,
          "metadata": {},
          "output_type": "execute_result"
        }
      ],
      "source": [
        "#Survivors female\n",
        "%%sql\n",
        "SELECT Survived, count(*) AS survive_count, \n",
        "    round(count(*) * 100.0 / (SELECT count(*) FROM passengers WHERE Sex = 'female'),2) AS percentage\n",
        "FROM passengers\n",
        "WHERE Sex = 'female'\n",
        "GROUP BY Survived"
      ]
    },
    {
      "cell_type": "code",
      "execution_count": 43,
      "metadata": {
        "colab": {
          "base_uri": "https://localhost:8080/",
          "height": 139
        },
        "id": "c21IvfiMkDM6",
        "outputId": "db486a89-544d-49c8-b16a-8718600a883f"
      },
      "outputs": [
        {
          "name": "stdout",
          "output_type": "stream",
          "text": [
            " * sqlite://\n",
            "Done.\n"
          ]
        },
        {
          "data": {
            "text/html": [
              "<table>\n",
              "    <thead>\n",
              "        <tr>\n",
              "            <th>Pclass</th>\n",
              "            <th>count(*)</th>\n",
              "        </tr>\n",
              "    </thead>\n",
              "    <tbody>\n",
              "        <tr>\n",
              "            <td>1</td>\n",
              "            <td>216</td>\n",
              "        </tr>\n",
              "        <tr>\n",
              "            <td>2</td>\n",
              "            <td>184</td>\n",
              "        </tr>\n",
              "        <tr>\n",
              "            <td>3</td>\n",
              "            <td>491</td>\n",
              "        </tr>\n",
              "    </tbody>\n",
              "</table>"
            ],
            "text/plain": [
              "[(1, 216), (2, 184), (3, 491)]"
            ]
          },
          "execution_count": 43,
          "metadata": {},
          "output_type": "execute_result"
        }
      ],
      "source": [
        "#Class demographics\n",
        "#class count\n",
        "%%sql\n",
        "SELECT Pclass, count(*)\n",
        "FROM passengers\n",
        "GROUP BY Pclass"
      ]
    },
    {
      "cell_type": "code",
      "execution_count": 44,
      "metadata": {
        "colab": {
          "base_uri": "https://localhost:8080/",
          "height": 118
        },
        "id": "fZpuhs95kRJ5",
        "outputId": "96364457-d542-4599-9405-95863308ccdf"
      },
      "outputs": [
        {
          "name": "stdout",
          "output_type": "stream",
          "text": [
            " * sqlite://\n",
            "Done.\n"
          ]
        },
        {
          "data": {
            "text/html": [
              "<table>\n",
              "    <thead>\n",
              "        <tr>\n",
              "            <th>Survived</th>\n",
              "            <th>survive_count</th>\n",
              "            <th>percentage</th>\n",
              "        </tr>\n",
              "    </thead>\n",
              "    <tbody>\n",
              "        <tr>\n",
              "            <td>0</td>\n",
              "            <td>80</td>\n",
              "            <td>37.04</td>\n",
              "        </tr>\n",
              "        <tr>\n",
              "            <td>1</td>\n",
              "            <td>136</td>\n",
              "            <td>62.96</td>\n",
              "        </tr>\n",
              "    </tbody>\n",
              "</table>"
            ],
            "text/plain": [
              "[(0, 80, 37.04), (1, 136, 62.96)]"
            ]
          },
          "execution_count": 44,
          "metadata": {},
          "output_type": "execute_result"
        }
      ],
      "source": [
        "#1st class\n",
        "%%sql\n",
        "SELECT Survived, count(*) AS survive_count,\n",
        "          round(count(*) * 100.0 / (SELECT count(*) FROM passengers WHERE Pclass = '1'),2) AS percentage\n",
        "FROM passengers\n",
        "WHERE Pclass = '1'\n",
        "GROUP BY Survived"
      ]
    },
    {
      "cell_type": "code",
      "execution_count": 45,
      "metadata": {
        "colab": {
          "base_uri": "https://localhost:8080/",
          "height": 118
        },
        "id": "BX58PkItkVnh",
        "outputId": "5211180c-4b61-41ae-a3cf-72f750ab157c"
      },
      "outputs": [
        {
          "name": "stdout",
          "output_type": "stream",
          "text": [
            " * sqlite://\n",
            "Done.\n"
          ]
        },
        {
          "data": {
            "text/html": [
              "<table>\n",
              "    <thead>\n",
              "        <tr>\n",
              "            <th>Survived</th>\n",
              "            <th>survive_count</th>\n",
              "            <th>percentage</th>\n",
              "        </tr>\n",
              "    </thead>\n",
              "    <tbody>\n",
              "        <tr>\n",
              "            <td>0</td>\n",
              "            <td>97</td>\n",
              "            <td>52.72</td>\n",
              "        </tr>\n",
              "        <tr>\n",
              "            <td>1</td>\n",
              "            <td>87</td>\n",
              "            <td>47.28</td>\n",
              "        </tr>\n",
              "    </tbody>\n",
              "</table>"
            ],
            "text/plain": [
              "[(0, 97, 52.72), (1, 87, 47.28)]"
            ]
          },
          "execution_count": 45,
          "metadata": {},
          "output_type": "execute_result"
        }
      ],
      "source": [
        "#2nd class\n",
        "%%sql\n",
        "SELECT Survived, count(*) AS survive_count,\n",
        "          round(count(*) * 100.0 / (SELECT count(*) FROM passengers WHERE Pclass = '2'),2) AS percentage\n",
        "FROM passengers\n",
        "WHERE Pclass = '2'\n",
        "GROUP BY Survived"
      ]
    },
    {
      "cell_type": "code",
      "execution_count": 46,
      "metadata": {
        "colab": {
          "base_uri": "https://localhost:8080/",
          "height": 118
        },
        "id": "5VRCSy8FkbYx",
        "outputId": "dd0f89d5-90eb-4f51-8538-de72d5f0299a"
      },
      "outputs": [
        {
          "name": "stdout",
          "output_type": "stream",
          "text": [
            " * sqlite://\n",
            "Done.\n"
          ]
        },
        {
          "data": {
            "text/html": [
              "<table>\n",
              "    <thead>\n",
              "        <tr>\n",
              "            <th>Survived</th>\n",
              "            <th>survive_count</th>\n",
              "            <th>percentage</th>\n",
              "        </tr>\n",
              "    </thead>\n",
              "    <tbody>\n",
              "        <tr>\n",
              "            <td>0</td>\n",
              "            <td>372</td>\n",
              "            <td>75.76</td>\n",
              "        </tr>\n",
              "        <tr>\n",
              "            <td>1</td>\n",
              "            <td>119</td>\n",
              "            <td>24.24</td>\n",
              "        </tr>\n",
              "    </tbody>\n",
              "</table>"
            ],
            "text/plain": [
              "[(0, 372, 75.76), (1, 119, 24.24)]"
            ]
          },
          "execution_count": 46,
          "metadata": {},
          "output_type": "execute_result"
        }
      ],
      "source": [
        "#3rd class\n",
        "%%sql\n",
        "SELECT Survived, count(*) AS survive_count,\n",
        "          round(count(*) * 100.0 / (SELECT count(*) FROM passengers WHERE Pclass = '3'),2) AS percentage\n",
        "FROM passengers\n",
        "WHERE Pclass = '3'\n",
        "GROUP BY Survived"
      ]
    },
    {
      "cell_type": "code",
      "execution_count": 47,
      "metadata": {
        "colab": {
          "base_uri": "https://localhost:8080/",
          "height": 160
        },
        "id": "v-HN3lPWknjq",
        "outputId": "aca0869d-bac5-4b22-c586-0912261406f9"
      },
      "outputs": [
        {
          "name": "stdout",
          "output_type": "stream",
          "text": [
            " * sqlite://\n",
            "Done.\n"
          ]
        },
        {
          "data": {
            "text/html": [
              "<table>\n",
              "    <thead>\n",
              "        <tr>\n",
              "            <th>Embarked</th>\n",
              "            <th>count(*)</th>\n",
              "        </tr>\n",
              "    </thead>\n",
              "    <tbody>\n",
              "        <tr>\n",
              "            <td>None</td>\n",
              "            <td>2</td>\n",
              "        </tr>\n",
              "        <tr>\n",
              "            <td>C</td>\n",
              "            <td>168</td>\n",
              "        </tr>\n",
              "        <tr>\n",
              "            <td>Q</td>\n",
              "            <td>77</td>\n",
              "        </tr>\n",
              "        <tr>\n",
              "            <td>S</td>\n",
              "            <td>644</td>\n",
              "        </tr>\n",
              "    </tbody>\n",
              "</table>"
            ],
            "text/plain": [
              "[(None, 2), ('C', 168), ('Q', 77), ('S', 644)]"
            ]
          },
          "execution_count": 47,
          "metadata": {},
          "output_type": "execute_result"
        }
      ],
      "source": [
        "#Embarkation\n",
        "#Embarkation count\n",
        "%%sql\n",
        "SELECT Embarked, count(*)\n",
        "FROM passengers\n",
        "GROUP BY Embarked"
      ]
    },
    {
      "cell_type": "code",
      "execution_count": 48,
      "metadata": {
        "colab": {
          "base_uri": "https://localhost:8080/",
          "height": 118
        },
        "id": "aLv4vUXbkteC",
        "outputId": "583360bb-e578-41ca-e6e8-6fcb26e35dcd"
      },
      "outputs": [
        {
          "name": "stdout",
          "output_type": "stream",
          "text": [
            " * sqlite://\n",
            "Done.\n"
          ]
        },
        {
          "data": {
            "text/html": [
              "<table>\n",
              "    <thead>\n",
              "        <tr>\n",
              "            <th>Survived</th>\n",
              "            <th>survive_count</th>\n",
              "            <th>percentage</th>\n",
              "        </tr>\n",
              "    </thead>\n",
              "    <tbody>\n",
              "        <tr>\n",
              "            <td>0</td>\n",
              "            <td>75</td>\n",
              "            <td>44.64</td>\n",
              "        </tr>\n",
              "        <tr>\n",
              "            <td>1</td>\n",
              "            <td>93</td>\n",
              "            <td>55.36</td>\n",
              "        </tr>\n",
              "    </tbody>\n",
              "</table>"
            ],
            "text/plain": [
              "[(0, 75, 44.64), (1, 93, 55.36)]"
            ]
          },
          "execution_count": 48,
          "metadata": {},
          "output_type": "execute_result"
        }
      ],
      "source": [
        "#C\n",
        "%%sql\n",
        "SELECT Survived, count(*) AS survive_count,\n",
        "          round(count(*) * 100.0 / (SELECT count(*) FROM passengers WHERE Embarked = 'C'),2) AS percentage\n",
        "FROM passengers\n",
        "WHERE Embarked = 'C'\n",
        "GROUP BY Survived"
      ]
    },
    {
      "cell_type": "code",
      "execution_count": 49,
      "metadata": {
        "colab": {
          "base_uri": "https://localhost:8080/",
          "height": 118
        },
        "id": "WRC5xNVFkzzw",
        "outputId": "5713c4c9-183b-4fb1-e72a-8c2dcfb90c44"
      },
      "outputs": [
        {
          "name": "stdout",
          "output_type": "stream",
          "text": [
            " * sqlite://\n",
            "Done.\n"
          ]
        },
        {
          "data": {
            "text/html": [
              "<table>\n",
              "    <thead>\n",
              "        <tr>\n",
              "            <th>Survived</th>\n",
              "            <th>survive_count</th>\n",
              "            <th>percentage</th>\n",
              "        </tr>\n",
              "    </thead>\n",
              "    <tbody>\n",
              "        <tr>\n",
              "            <td>0</td>\n",
              "            <td>47</td>\n",
              "            <td>61.04</td>\n",
              "        </tr>\n",
              "        <tr>\n",
              "            <td>1</td>\n",
              "            <td>30</td>\n",
              "            <td>38.96</td>\n",
              "        </tr>\n",
              "    </tbody>\n",
              "</table>"
            ],
            "text/plain": [
              "[(0, 47, 61.04), (1, 30, 38.96)]"
            ]
          },
          "execution_count": 49,
          "metadata": {},
          "output_type": "execute_result"
        }
      ],
      "source": [
        "#Q\n",
        "%%sql\n",
        "SELECT Survived, count(*) AS survive_count,\n",
        "          round(count(*) * 100.0 / (SELECT count(*) FROM passengers WHERE Embarked = 'Q'),2) AS percentage\n",
        "FROM passengers\n",
        "WHERE Embarked = 'Q'\n",
        "GROUP BY Survived"
      ]
    },
    {
      "cell_type": "code",
      "execution_count": 50,
      "metadata": {
        "colab": {
          "base_uri": "https://localhost:8080/",
          "height": 118
        },
        "id": "PLZh5DJBk7MA",
        "outputId": "826d91c4-78e4-47c7-d6fd-0437a762f115"
      },
      "outputs": [
        {
          "name": "stdout",
          "output_type": "stream",
          "text": [
            " * sqlite://\n",
            "Done.\n"
          ]
        },
        {
          "data": {
            "text/html": [
              "<table>\n",
              "    <thead>\n",
              "        <tr>\n",
              "            <th>Survived</th>\n",
              "            <th>survive_count</th>\n",
              "            <th>percentage</th>\n",
              "        </tr>\n",
              "    </thead>\n",
              "    <tbody>\n",
              "        <tr>\n",
              "            <td>0</td>\n",
              "            <td>427</td>\n",
              "            <td>66.3</td>\n",
              "        </tr>\n",
              "        <tr>\n",
              "            <td>1</td>\n",
              "            <td>217</td>\n",
              "            <td>33.7</td>\n",
              "        </tr>\n",
              "    </tbody>\n",
              "</table>"
            ],
            "text/plain": [
              "[(0, 427, 66.3), (1, 217, 33.7)]"
            ]
          },
          "execution_count": 50,
          "metadata": {},
          "output_type": "execute_result"
        }
      ],
      "source": [
        "#S\n",
        "%%sql\n",
        "SELECT Survived, count(*) AS survive_count,\n",
        "          round(count(*) * 100.0 / (SELECT count(*) FROM passengers WHERE Embarked = 'S'),2) AS percentage\n",
        "FROM passengers\n",
        "WHERE Embarked = 'S'\n",
        "GROUP BY Survived"
      ]
    },
    {
      "cell_type": "code",
      "execution_count": 51,
      "metadata": {
        "colab": {
          "base_uri": "https://localhost:8080/",
          "height": 588
        },
        "id": "qtGCR2RrlEAo",
        "outputId": "1626080e-e98b-4148-84c4-639fbf194891"
      },
      "outputs": [
        {
          "name": "stdout",
          "output_type": "stream",
          "text": [
            " * sqlite://\n",
            "Done.\n"
          ]
        },
        {
          "data": {
            "text/html": [
              "<table>\n",
              "    <thead>\n",
              "        <tr>\n",
              "            <th>Parch</th>\n",
              "            <th>SibSp</th>\n",
              "            <th>count(*)</th>\n",
              "        </tr>\n",
              "    </thead>\n",
              "    <tbody>\n",
              "        <tr>\n",
              "            <td>0</td>\n",
              "            <td>0</td>\n",
              "            <td>537</td>\n",
              "        </tr>\n",
              "        <tr>\n",
              "            <td>0</td>\n",
              "            <td>1</td>\n",
              "            <td>123</td>\n",
              "        </tr>\n",
              "        <tr>\n",
              "            <td>0</td>\n",
              "            <td>2</td>\n",
              "            <td>16</td>\n",
              "        </tr>\n",
              "        <tr>\n",
              "            <td>0</td>\n",
              "            <td>3</td>\n",
              "            <td>2</td>\n",
              "        </tr>\n",
              "        <tr>\n",
              "            <td>1</td>\n",
              "            <td>0</td>\n",
              "            <td>38</td>\n",
              "        </tr>\n",
              "        <tr>\n",
              "            <td>1</td>\n",
              "            <td>1</td>\n",
              "            <td>57</td>\n",
              "        </tr>\n",
              "        <tr>\n",
              "            <td>1</td>\n",
              "            <td>2</td>\n",
              "            <td>7</td>\n",
              "        </tr>\n",
              "        <tr>\n",
              "            <td>1</td>\n",
              "            <td>3</td>\n",
              "            <td>7</td>\n",
              "        </tr>\n",
              "        <tr>\n",
              "            <td>1</td>\n",
              "            <td>4</td>\n",
              "            <td>9</td>\n",
              "        </tr>\n",
              "        <tr>\n",
              "            <td>2</td>\n",
              "            <td>0</td>\n",
              "            <td>29</td>\n",
              "        </tr>\n",
              "        <tr>\n",
              "            <td>2</td>\n",
              "            <td>1</td>\n",
              "            <td>19</td>\n",
              "        </tr>\n",
              "        <tr>\n",
              "            <td>2</td>\n",
              "            <td>2</td>\n",
              "            <td>4</td>\n",
              "        </tr>\n",
              "        <tr>\n",
              "            <td>2</td>\n",
              "            <td>3</td>\n",
              "            <td>7</td>\n",
              "        </tr>\n",
              "        <tr>\n",
              "            <td>2</td>\n",
              "            <td>4</td>\n",
              "            <td>9</td>\n",
              "        </tr>\n",
              "        <tr>\n",
              "            <td>2</td>\n",
              "            <td>5</td>\n",
              "            <td>5</td>\n",
              "        </tr>\n",
              "        <tr>\n",
              "            <td>2</td>\n",
              "            <td>8</td>\n",
              "            <td>7</td>\n",
              "        </tr>\n",
              "        <tr>\n",
              "            <td>3</td>\n",
              "            <td>0</td>\n",
              "            <td>1</td>\n",
              "        </tr>\n",
              "        <tr>\n",
              "            <td>3</td>\n",
              "            <td>1</td>\n",
              "            <td>3</td>\n",
              "        </tr>\n",
              "        <tr>\n",
              "            <td>3</td>\n",
              "            <td>2</td>\n",
              "            <td>1</td>\n",
              "        </tr>\n",
              "        <tr>\n",
              "            <td>4</td>\n",
              "            <td>0</td>\n",
              "            <td>1</td>\n",
              "        </tr>\n",
              "        <tr>\n",
              "            <td>4</td>\n",
              "            <td>1</td>\n",
              "            <td>3</td>\n",
              "        </tr>\n",
              "        <tr>\n",
              "            <td>5</td>\n",
              "            <td>0</td>\n",
              "            <td>2</td>\n",
              "        </tr>\n",
              "        <tr>\n",
              "            <td>5</td>\n",
              "            <td>1</td>\n",
              "            <td>3</td>\n",
              "        </tr>\n",
              "        <tr>\n",
              "            <td>6</td>\n",
              "            <td>1</td>\n",
              "            <td>1</td>\n",
              "        </tr>\n",
              "    </tbody>\n",
              "</table>"
            ],
            "text/plain": [
              "[(0, 0, 537),\n",
              " (0, 1, 123),\n",
              " (0, 2, 16),\n",
              " (0, 3, 2),\n",
              " (1, 0, 38),\n",
              " (1, 1, 57),\n",
              " (1, 2, 7),\n",
              " (1, 3, 7),\n",
              " (1, 4, 9),\n",
              " (2, 0, 29),\n",
              " (2, 1, 19),\n",
              " (2, 2, 4),\n",
              " (2, 3, 7),\n",
              " (2, 4, 9),\n",
              " (2, 5, 5),\n",
              " (2, 8, 7),\n",
              " (3, 0, 1),\n",
              " (3, 1, 3),\n",
              " (3, 2, 1),\n",
              " (4, 0, 1),\n",
              " (4, 1, 3),\n",
              " (5, 0, 2),\n",
              " (5, 1, 3),\n",
              " (6, 1, 1)]"
            ]
          },
          "execution_count": 51,
          "metadata": {},
          "output_type": "execute_result"
        }
      ],
      "source": [
        "#Without family\n",
        "#Parch SibSp count\n",
        "%%sql\n",
        "SELECT Parch, SibSp, count(*)\n",
        "FROM passengers\n",
        "GROUP BY Parch, SibSp"
      ]
    },
    {
      "cell_type": "code",
      "execution_count": 11,
      "metadata": {
        "colab": {
          "base_uri": "https://localhost:8080/",
          "height": 118
        },
        "id": "BKpoqAZ0lJ-o",
        "outputId": "932e3d1f-d334-430f-ff7e-abc73412b200"
      },
      "outputs": [
        {
          "ename": "TabError",
          "evalue": "inconsistent use of tabs and spaces in indentation (<string>, line 5)",
          "output_type": "error",
          "traceback": [
            "\u001b[1;36m  File \u001b[1;32m<string>:5\u001b[1;36m\u001b[0m\n\u001b[1;33m    COUNT(CASE WHEN survived = 1 THEN 1 END) * 100.0 / COUNT(*) AS Survived_Passenger_Rate,\u001b[0m\n\u001b[1;37m                                                                                           ^\u001b[0m\n\u001b[1;31mTabError\u001b[0m\u001b[1;31m:\u001b[0m inconsistent use of tabs and spaces in indentation\n"
          ]
        }
      ],
      "source": [
        "#without family onboard\n",
        "%%sql\n",
        "SELECT \n",
        "    COUNT(CASE WHEN survived = 1 THEN 1 END) AS Total_Passenger_Survived,\n",
        "\tCOUNT(CASE WHEN survived = 1 THEN 1 END) * 100.0 / COUNT(*) AS Survived_Passenger_Rate,\n",
        "    COUNT(CASE WHEN survived = 0 THEN 1 END) AS Total_Passenger_Unsurvived,\n",
        "    COUNT(CASE WHEN survived = 0 THEN 1 END) * 100.0 / COUNT(*) AS Unsurvived_Passenger_Rate\n",
        "FROM \n",
        "    passengers"
      ]
    },
    {
      "cell_type": "code",
      "execution_count": 3,
      "metadata": {},
      "outputs": [
        {
          "name": "stderr",
          "output_type": "stream",
          "text": [
            "UsageError: Cell magic `%%sql` not found.\n"
          ]
        }
      ],
      "source": [
        "%%sql \n",
        "SELECT \n",
        "    COUNT(CASE WHEN survived = 1 THEN 1 END) AS Total_Passenger_Survived,\n",
        "\t(COUNT(CASE WHEN survived = 1 THEN 1 END) * 100.0 / COUNT(*)) AS Survived_Passenger_Rate,\n",
        "    COUNT(CASE WHEN survived = 0 THEN 1 END) AS Total_Passenger_Unsurvived,\n",
        "    (COUNT(CASE WHEN survived = 0 THEN 1 END) * 100.0 / COUNT(*)) AS Unsurvived_Passenger_Rate\n",
        "FROM \n",
        "    passengers;\n"
      ]
    }
  ],
  "metadata": {
    "colab": {
      "authorship_tag": "ABX9TyOvBZU3mUI043ekL3wHOJ8N",
      "include_colab_link": true,
      "mount_file_id": "1Xzw9iJf0SyLYH_b0COvWR_CsO0vyCKHO",
      "name": "sql_titanic_in_py",
      "provenance": []
    },
    "kernelspec": {
      "display_name": "Python 3",
      "name": "python3"
    },
    "language_info": {
      "codemirror_mode": {
        "name": "ipython",
        "version": 3
      },
      "file_extension": ".py",
      "mimetype": "text/x-python",
      "name": "python",
      "nbconvert_exporter": "python",
      "pygments_lexer": "ipython3",
      "version": "3.12.5"
    }
  },
  "nbformat": 4,
  "nbformat_minor": 0
}
